{
 "cells": [
  {
   "cell_type": "code",
   "execution_count": 1,
   "id": "caef80e0",
   "metadata": {},
   "outputs": [],
   "source": [
    "# Basic Python packages\n",
    "import numpy as np\n",
    "import sys"
   ]
  },
  {
   "cell_type": "code",
   "execution_count": null,
   "id": "b624076a",
   "metadata": {},
   "outputs": [],
   "source": []
  },
  {
   "cell_type": "code",
   "execution_count": null,
   "id": "6ed5b86d",
   "metadata": {},
   "outputs": [],
   "source": []
  },
  {
   "cell_type": "code",
   "execution_count": 2,
   "id": "46193877",
   "metadata": {},
   "outputs": [],
   "source": [
    "\"\"\"\n",
    "Function Name: newtonzero\n",
    "Author: Tegh Bir Singh\n",
    "\n",
    "Description: Use quasi-Newton's method to calculate the roots of some function. \n",
    "In place of the actual derivative the symmetric derivative was used instead.\n",
    "\n",
    "Inputs: \n",
    "-         f: some mathematical function e.g. x^3-x+2\n",
    "-        x0: initial point \n",
    "- tolerance: maximum error that is acceptable\n",
    "\n",
    "Outputs: estimate of the root of the function\n",
    "\n",
    "Note: A division by zero error can occur if dfdx = 0\n",
    "\"\"\"\n",
    "\n",
    "def newtonzero(f, x0, tolerance):\n",
    "\n",
    "  \n",
    "    h = 10**-6   # step-size\n",
    "\n",
    "\n",
    "    # Flags to determine if program needs terminate\n",
    "    \n",
    "    num_iterations = 0 # Store number of time Newton's method runs\n",
    "    error = abs(f(x0)) # how far y-value away from zero\n",
    "    xvalues = np.array([x0]) # store xvalues to determine looping\n",
    "    \n",
    "    \n",
    "    \n",
    "    while(error > tolerance):\n",
    "\n",
    "        # calculate the derivative\n",
    "        dfdx = (f(x0+h)-f(x0-h))/(2*h)\n",
    "\n",
    "        # use the equation for Newton's method\n",
    "        x0 = x0 - f(x0)/dfdx  \n",
    "\n",
    "\n",
    "        ####### Check for issues with Newton's method #######\n",
    "        \n",
    "        if x0 in xvalues:\n",
    "            sys.exit(\"Looping has occured. Terminating program\")\n",
    "    \n",
    "        \n",
    "        num_iterations = num_iterations + 1\n",
    "        if num_iterations == 50:\n",
    "            sys.exit(\"Convergence is too slow. Terminating program.\")\n",
    "            \n",
    "        \n",
    "        # check for running off into +/-infinity\n",
    "        if num_iterations>=6:\n",
    "            \n",
    "            # if the new-value is greater than or less than the all the last 5 values\n",
    "            # from Newton's Method then we assume it is heading to +/-infinity and hence return None\n",
    "            if (x0 > xvalues[-5:]).sum()==5:\n",
    "                sys.exit(\"The program seems to be running to infinity. Terminating program.\")\n",
    "                \n",
    "            elif (x0 < xvalues[-5:]).sum()==5:\n",
    "                sys.exit(\"The program seems to be running to -infinity. Terminating program.\")\n",
    "                \n",
    "        \n",
    "        ####### All checks completed #######\n",
    "        \n",
    "        \n",
    "        # Update variables\n",
    "        xvalues = np.append(xvalues, x0)\n",
    "        error = abs(f(x0))\n",
    "            \n",
    "    \n",
    "    return x0\n"
   ]
  },
  {
   "cell_type": "code",
   "execution_count": null,
   "id": "24fbf285",
   "metadata": {},
   "outputs": [],
   "source": []
  },
  {
   "cell_type": "code",
   "execution_count": 8,
   "id": "5d7c2563",
   "metadata": {},
   "outputs": [
    {
     "data": {
      "text/plain": [
       "0.7391128909115995"
      ]
     },
     "execution_count": 8,
     "metadata": {},
     "output_type": "execute_result"
    }
   ],
   "source": [
    "def f(x):\n",
    "    \n",
    "    return cos(x) - x\n",
    "\n",
    "value = newtonzero(f, 0, 0.001)\n",
    "\n",
    "value"
   ]
  },
  {
   "cell_type": "code",
   "execution_count": null,
   "id": "fb7564a2",
   "metadata": {},
   "outputs": [],
   "source": []
  },
  {
   "cell_type": "code",
   "execution_count": null,
   "id": "870aa6d3",
   "metadata": {},
   "outputs": [],
   "source": []
  },
  {
   "cell_type": "code",
   "execution_count": null,
   "id": "8300c8b8",
   "metadata": {},
   "outputs": [],
   "source": []
  },
  {
   "cell_type": "code",
   "execution_count": null,
   "id": "5cdc71d4",
   "metadata": {},
   "outputs": [],
   "source": []
  }
 ],
 "metadata": {
  "kernelspec": {
   "display_name": "capstone",
   "language": "python",
   "name": "python3"
  },
  "language_info": {
   "codemirror_mode": {
    "name": "ipython",
    "version": 3
   },
   "file_extension": ".py",
   "mimetype": "text/x-python",
   "name": "python",
   "nbconvert_exporter": "python",
   "pygments_lexer": "ipython3",
   "version": "3.10.6"
  }
 },
 "nbformat": 4,
 "nbformat_minor": 5
}
