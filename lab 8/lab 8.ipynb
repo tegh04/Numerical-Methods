{
 "cells": [
  {
   "cell_type": "code",
   "execution_count": 4,
   "id": "be471745",
   "metadata": {},
   "outputs": [],
   "source": [
    "import numpy as np\n",
    "import matplotlib.pyplot as plt\n",
    "from scipy import linalg as la"
   ]
  },
  {
   "cell_type": "code",
   "execution_count": null,
   "id": "7016051c",
   "metadata": {},
   "outputs": [],
   "source": []
  },
  {
   "cell_type": "code",
   "execution_count": 5,
   "id": "2b5b23af",
   "metadata": {},
   "outputs": [
    {
     "data": {
      "text/plain": [
       "3.7416573867739413"
      ]
     },
     "execution_count": 5,
     "metadata": {},
     "output_type": "execute_result"
    }
   ],
   "source": [
    "# Q1\n",
    "\n",
    "a = np.array([1, 0, 2, 3])\n",
    "\n",
    "la.norm(a, 2)"
   ]
  },
  {
   "cell_type": "code",
   "execution_count": null,
   "id": "aaf8c1a7",
   "metadata": {},
   "outputs": [],
   "source": []
  },
  {
   "cell_type": "code",
   "execution_count": 6,
   "id": "bd372e5e",
   "metadata": {},
   "outputs": [
    {
     "data": {
      "text/plain": [
       "array([[ 4.09413026],\n",
       "       [-4.35771995],\n",
       "       [-0.29096309],\n",
       "       [-2.68331998],\n",
       "       [-4.95638805],\n",
       "       [ 4.14007972],\n",
       "       [ 2.23042026],\n",
       "       [-4.19218166],\n",
       "       [ 0.38823774],\n",
       "       [-9.20300419],\n",
       "       [ 1.37839435],\n",
       "       [-0.03563777],\n",
       "       [ 8.78354501],\n",
       "       [ 5.44246463],\n",
       "       [ 2.9926909 ],\n",
       "       [ 7.13635481],\n",
       "       [ 0.13169136],\n",
       "       [-0.38848337],\n",
       "       [-3.23171101],\n",
       "       [-1.28693344]])"
      ]
     },
     "execution_count": 6,
     "metadata": {},
     "output_type": "execute_result"
    }
   ],
   "source": [
    "# Q3\n",
    "\n",
    "A = np.random.rand(20, 20)\n",
    "b = np.random.rand(20, 1)\n",
    "\n",
    "np.linalg.solve(A, b)"
   ]
  },
  {
   "cell_type": "code",
   "execution_count": null,
   "id": "de294092",
   "metadata": {},
   "outputs": [],
   "source": []
  },
  {
   "cell_type": "code",
   "execution_count": 7,
   "id": "3dce6eaf",
   "metadata": {},
   "outputs": [],
   "source": [
    "# Q5\n",
    "A = np.random.rand(4, 4)\n",
    "\n",
    "P, L, U = la.lu(A)"
   ]
  },
  {
   "cell_type": "code",
   "execution_count": 8,
   "id": "bfe98bdd",
   "metadata": {},
   "outputs": [
    {
     "name": "stdout",
     "output_type": "stream",
     "text": [
      "[[1.         0.         0.         0.        ]\n",
      " [0.03883795 1.         0.         0.        ]\n",
      " [0.49073537 0.36824087 1.         0.        ]\n",
      " [0.03347682 0.86782698 0.09226226 1.        ]]\n",
      "[[ 0.53703954  0.22557484  0.31038523  0.11538979]\n",
      " [ 0.          0.84003565  0.33675943  0.15661962]\n",
      " [ 0.          0.          0.2309708   0.19955364]\n",
      " [ 0.          0.          0.         -0.09968115]]\n"
     ]
    }
   ],
   "source": [
    "print(L)\n",
    "print(U)"
   ]
  },
  {
   "cell_type": "code",
   "execution_count": null,
   "id": "bebf854f",
   "metadata": {},
   "outputs": [],
   "source": []
  },
  {
   "cell_type": "code",
   "execution_count": 9,
   "id": "f5e6aaff",
   "metadata": {},
   "outputs": [],
   "source": [
    "# Q6\n",
    "Q, R = la.qr(A)"
   ]
  },
  {
   "cell_type": "code",
   "execution_count": 10,
   "id": "790a41b7",
   "metadata": {},
   "outputs": [
    {
     "data": {
      "text/plain": [
       "array([[-0.59885334, -0.43881495, -0.52347323, -0.24896785],\n",
       "       [ 0.        , -1.13917738, -0.51622164, -0.20053616],\n",
       "       [ 0.        ,  0.        , -0.19948488, -0.18212908],\n",
       "       [ 0.        ,  0.        ,  0.        , -0.07632244]])"
      ]
     },
     "execution_count": 10,
     "metadata": {},
     "output_type": "execute_result"
    }
   ],
   "source": [
    "R"
   ]
  },
  {
   "cell_type": "code",
   "execution_count": 14,
   "id": "74602e7a",
   "metadata": {},
   "outputs": [
    {
     "data": {
      "text/plain": [
       "array([[ 1.00000000e+00,  0.00000000e+00,  1.38777878e-17,\n",
       "        -1.38777878e-17],\n",
       "       [ 0.00000000e+00,  1.00000000e+00,  2.77555756e-17,\n",
       "         4.16333634e-17],\n",
       "       [-4.85722573e-17, -8.32667268e-17,  1.00000000e+00,\n",
       "        -2.77555756e-17],\n",
       "       [ 1.38777878e-17, -9.71445147e-17, -1.38777878e-17,\n",
       "         1.00000000e+00]])"
      ]
     },
     "execution_count": 14,
     "metadata": {},
     "output_type": "execute_result"
    }
   ],
   "source": [
    "(Q@la.inv(Q))"
   ]
  },
  {
   "cell_type": "code",
   "execution_count": 11,
   "id": "6cb6b385",
   "metadata": {},
   "outputs": [
    {
     "data": {
      "text/plain": [
       "array([[ True, False, False, False],\n",
       "       [False, False, False,  True],\n",
       "       [False, False, False, False],\n",
       "       [False, False, False,  True]])"
      ]
     },
     "execution_count": 11,
     "metadata": {},
     "output_type": "execute_result"
    }
   ],
   "source": [
    "la.inv(Q)==Q.T"
   ]
  },
  {
   "cell_type": "code",
   "execution_count": null,
   "id": "2102cae5",
   "metadata": {},
   "outputs": [],
   "source": []
  },
  {
   "cell_type": "code",
   "execution_count": null,
   "id": "5867b34e",
   "metadata": {},
   "outputs": [],
   "source": []
  },
  {
   "cell_type": "code",
   "execution_count": 17,
   "id": "c14df4b4",
   "metadata": {},
   "outputs": [],
   "source": [
    "# Q7\n",
    "A = np.random.rand(5, 5)\n",
    "v = np.random.rand(5, 1)\n",
    "\n",
    "mu = [1, 2]\n",
    "\n",
    "while abs(mu[-1]-mu[-2]) > 0.05:\n",
    "    \n",
    "    u = A@v\n",
    "    mu.append(la.norm(u, 2))\n",
    "    \n",
    "    v = u/mu[-1]\n",
    "    "
   ]
  },
  {
   "cell_type": "markdown",
   "id": "acb65a5d",
   "metadata": {},
   "source": [
    "mu"
   ]
  },
  {
   "cell_type": "code",
   "execution_count": 18,
   "id": "c22a5485",
   "metadata": {},
   "outputs": [
    {
     "data": {
      "text/plain": [
       "[1,\n",
       " 2,\n",
       " 1.3673716814612755,\n",
       " 2.339520235504077,\n",
       " 2.5560699594566954,\n",
       " 2.5736255407738886]"
      ]
     },
     "execution_count": 18,
     "metadata": {},
     "output_type": "execute_result"
    }
   ],
   "source": [
    "mu"
   ]
  },
  {
   "cell_type": "code",
   "execution_count": 19,
   "id": "fb9b75b2",
   "metadata": {},
   "outputs": [
    {
     "data": {
      "text/plain": [
       "array([[0.58185149],\n",
       "       [0.42645445],\n",
       "       [0.38506563],\n",
       "       [0.33501399],\n",
       "       [0.46805505]])"
      ]
     },
     "execution_count": 19,
     "metadata": {},
     "output_type": "execute_result"
    }
   ],
   "source": [
    "v"
   ]
  },
  {
   "cell_type": "code",
   "execution_count": null,
   "id": "9bae8b93",
   "metadata": {},
   "outputs": [],
   "source": []
  },
  {
   "cell_type": "code",
   "execution_count": null,
   "id": "695958f2",
   "metadata": {},
   "outputs": [],
   "source": []
  },
  {
   "cell_type": "code",
   "execution_count": 20,
   "id": "371acb02",
   "metadata": {},
   "outputs": [],
   "source": [
    "# Q8\n",
    "\n",
    "def peig(A, tol):\n",
    "    \n",
    "    v = np.random.rand(A.shape[1], 1)\n",
    "    mu = []\n",
    "    \n",
    "    for i in range(2):\n",
    "        u = A@v\n",
    "        mu.append(la.norm(u, 2))\n",
    "\n",
    "        v = u/mu[-1]\n",
    "        \n",
    "    while abs(mu[-1] - mu[-2])> tol:\n",
    "        \n",
    "        u = A@v\n",
    "        mu.append(la.norm(u, 2))\n",
    "\n",
    "        v = u/mu[-1]\n",
    "        \n",
    "    return (mu[-1], v)"
   ]
  },
  {
   "cell_type": "code",
   "execution_count": null,
   "id": "4ead6244",
   "metadata": {},
   "outputs": [],
   "source": []
  },
  {
   "cell_type": "code",
   "execution_count": 21,
   "id": "a2491772",
   "metadata": {},
   "outputs": [],
   "source": [
    "# Q9\n",
    "\n",
    "def invpeig(A, tol):\n",
    "    \n",
    "    v = np.random.rand(A.shape[1], 1)\n",
    "    mu = []\n",
    "    \n",
    "    for i in range(2):\n",
    "        u = la.inv(A)@v\n",
    "        mu.append(la.norm(u, 2))\n",
    "\n",
    "        v = u/mu[-1]\n",
    "        \n",
    "    while abs(mu[-1] - mu[-2])> tol:\n",
    "        \n",
    "        u = la.inv(A)@v\n",
    "        mu.append(la.norm(u, 2))\n",
    "\n",
    "        v = u/mu[-1]\n",
    "        \n",
    "    return (1/mu[-1], v)"
   ]
  },
  {
   "cell_type": "code",
   "execution_count": null,
   "id": "3525ce0f",
   "metadata": {},
   "outputs": [],
   "source": []
  },
  {
   "cell_type": "code",
   "execution_count": null,
   "id": "afe1918d",
   "metadata": {},
   "outputs": [],
   "source": [
    "# Q10\n",
    "\n",
    "def qreigs(A, tol):\n",
    "    \n",
    "    def get_eigen_values(A):\n",
    "        \n",
    "        eigen_values = []\n",
    "        \n",
    "        for i in range(A.shape[0]):\n",
    "            eigen_values.append(A[i, i])\n",
    "        \n",
    "        return np.array(eigen_values)\n",
    "    \n",
    "    eig1 = get_eigen_values(A)\n",
    "    Q, R = la.qr(A)\n",
    "    A = R@Q\n",
    "    eig2 = get_eigen_values(A)\n",
    "    \n",
    "    while la.norm((eig1-eig2), 2) > tol:\n",
    "        \n",
    "        Q, R = la.qr(A)\n",
    "        eig1 = get_eigen_values(A)\n",
    "        \n",
    "        A = R@Q\n",
    "        eig2 = get_eigen_values(A)\n",
    "        \n",
    "    \n",
    "    return (eig1+eig2)/2\n",
    "    "
   ]
  }
 ],
 "metadata": {
  "kernelspec": {
   "display_name": "capstone",
   "language": "python",
   "name": "python3"
  },
  "language_info": {
   "codemirror_mode": {
    "name": "ipython",
    "version": 3
   },
   "file_extension": ".py",
   "mimetype": "text/x-python",
   "name": "python",
   "nbconvert_exporter": "python",
   "pygments_lexer": "ipython3",
   "version": "3.10.4"
  }
 },
 "nbformat": 4,
 "nbformat_minor": 5
}
