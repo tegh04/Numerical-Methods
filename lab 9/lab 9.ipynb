{
 "cells": [
  {
   "cell_type": "code",
   "execution_count": 46,
   "id": "7f9ea022",
   "metadata": {},
   "outputs": [],
   "source": [
    "import numpy as np\n",
    "import matplotlib.pyplot as plt\n",
    "from scipy import sparse as sp\n",
    "from scipy.sparse import linalg as sla\n",
    "from scipy import linalg as la"
   ]
  },
  {
   "cell_type": "code",
   "execution_count": 40,
   "id": "71475e99",
   "metadata": {},
   "outputs": [],
   "source": [
    "from scipy.sparse.linalg import spsolve"
   ]
  },
  {
   "cell_type": "code",
   "execution_count": 3,
   "id": "f661ec9f",
   "metadata": {},
   "outputs": [],
   "source": [
    "# Q1"
   ]
  },
  {
   "cell_type": "code",
   "execution_count": 15,
   "id": "5166330d",
   "metadata": {},
   "outputs": [],
   "source": [
    "row = np.arange(0, 5, dtype=int)\n",
    "col = np.arange(0, 5, dtype=int)\n",
    "\n",
    "entries = np.arange(1, 6, dtype=int)\n",
    "\n",
    "A = sp.csc_matrix((entries, (row, col)), shape=(5, 5))"
   ]
  },
  {
   "cell_type": "code",
   "execution_count": 16,
   "id": "66af81ad",
   "metadata": {},
   "outputs": [
    {
     "data": {
      "text/plain": [
       "<5x5 sparse matrix of type '<class 'numpy.intc'>'\n",
       "\twith 5 stored elements in Compressed Sparse Column format>"
      ]
     },
     "execution_count": 16,
     "metadata": {},
     "output_type": "execute_result"
    }
   ],
   "source": [
    "A"
   ]
  },
  {
   "cell_type": "code",
   "execution_count": 17,
   "id": "1611f3ca",
   "metadata": {},
   "outputs": [
    {
     "name": "stdout",
     "output_type": "stream",
     "text": [
      "  (0, 0)\t1\n",
      "  (1, 1)\t2\n",
      "  (2, 2)\t3\n",
      "  (3, 3)\t4\n",
      "  (4, 4)\t5\n"
     ]
    }
   ],
   "source": [
    "print(A)"
   ]
  },
  {
   "cell_type": "code",
   "execution_count": 18,
   "id": "b064b858",
   "metadata": {},
   "outputs": [
    {
     "data": {
      "text/plain": [
       "<5x5 sparse matrix of type '<class 'numpy.float64'>'\n",
       "\twith 9 stored elements (2 diagonals) in DIAgonal format>"
      ]
     },
     "execution_count": 18,
     "metadata": {},
     "output_type": "execute_result"
    }
   ],
   "source": [
    "sp.diags([[1, 2, 3, 4, 5], [1, 1, 1, 1]], [0, 1])"
   ]
  },
  {
   "cell_type": "code",
   "execution_count": null,
   "id": "40a79000",
   "metadata": {},
   "outputs": [],
   "source": []
  },
  {
   "cell_type": "code",
   "execution_count": null,
   "id": "c8dac8e7",
   "metadata": {},
   "outputs": [],
   "source": []
  },
  {
   "cell_type": "markdown",
   "id": "93c241db",
   "metadata": {},
   "source": [
    "#### Q2"
   ]
  },
  {
   "cell_type": "code",
   "execution_count": 19,
   "id": "2fd2ce40",
   "metadata": {},
   "outputs": [],
   "source": [
    "A = (np.random.randn(20,20)-0.5)**5"
   ]
  },
  {
   "cell_type": "code",
   "execution_count": 22,
   "id": "f4888bcf",
   "metadata": {},
   "outputs": [],
   "source": [
    "A[np.where(np.abs(A)<0.1)] = 0"
   ]
  },
  {
   "cell_type": "code",
   "execution_count": 24,
   "id": "39965884",
   "metadata": {
    "scrolled": false
   },
   "outputs": [
    {
     "data": {
      "text/plain": [
       "(20, 20)"
      ]
     },
     "execution_count": 24,
     "metadata": {},
     "output_type": "execute_result"
    }
   ],
   "source": [
    "A.shape"
   ]
  },
  {
   "cell_type": "code",
   "execution_count": null,
   "id": "8284f3be",
   "metadata": {},
   "outputs": [],
   "source": []
  },
  {
   "cell_type": "code",
   "execution_count": 25,
   "id": "e8c3f395",
   "metadata": {},
   "outputs": [],
   "source": [
    "A2 = (np.random.randn(5000,5000)-0.5)**5"
   ]
  },
  {
   "cell_type": "code",
   "execution_count": 26,
   "id": "06c0b057",
   "metadata": {},
   "outputs": [],
   "source": [
    "A2[np.where(np.abs(A2)<0.1)] = 0"
   ]
  },
  {
   "cell_type": "code",
   "execution_count": 30,
   "id": "e7887cf2",
   "metadata": {},
   "outputs": [
    {
     "data": {
      "text/plain": [
       "dtype('float64')"
      ]
     },
     "execution_count": 30,
     "metadata": {},
     "output_type": "execute_result"
    }
   ],
   "source": [
    "A2.dtype"
   ]
  },
  {
   "cell_type": "code",
   "execution_count": 31,
   "id": "19ddb03b",
   "metadata": {},
   "outputs": [
    {
     "data": {
      "text/plain": [
       "1600.0"
      ]
     },
     "execution_count": 31,
     "metadata": {},
     "output_type": "execute_result"
    }
   ],
   "source": [
    "np.size(A2)*64 / 1e+6"
   ]
  },
  {
   "cell_type": "code",
   "execution_count": null,
   "id": "ca21783b",
   "metadata": {},
   "outputs": [],
   "source": []
  },
  {
   "cell_type": "code",
   "execution_count": 32,
   "id": "4bcdd399",
   "metadata": {},
   "outputs": [],
   "source": [
    "A_ = sp.csc_matrix(A2)"
   ]
  },
  {
   "cell_type": "code",
   "execution_count": 37,
   "id": "90a2b23a",
   "metadata": {},
   "outputs": [
    {
     "data": {
      "text/plain": [
       "115.40116"
      ]
     },
     "execution_count": 37,
     "metadata": {},
     "output_type": "execute_result"
    }
   ],
   "source": [
    "A_.data.nbytes/1e+6"
   ]
  },
  {
   "cell_type": "code",
   "execution_count": null,
   "id": "ded772b0",
   "metadata": {},
   "outputs": [],
   "source": []
  },
  {
   "cell_type": "code",
   "execution_count": null,
   "id": "f184142a",
   "metadata": {},
   "outputs": [],
   "source": [
    "# Q3"
   ]
  },
  {
   "cell_type": "code",
   "execution_count": 57,
   "id": "1d68707f",
   "metadata": {},
   "outputs": [],
   "source": [
    "A = sp.random(5000, 5000, density = 0.1)"
   ]
  },
  {
   "cell_type": "code",
   "execution_count": 58,
   "id": "146b45a7",
   "metadata": {},
   "outputs": [],
   "source": [
    "b = sp.random(5000, 1, density = 0.1)"
   ]
  },
  {
   "cell_type": "code",
   "execution_count": 59,
   "id": "4b1de956",
   "metadata": {},
   "outputs": [],
   "source": [
    "x = spsolve(A, b)"
   ]
  },
  {
   "cell_type": "code",
   "execution_count": 60,
   "id": "fefd1ef4",
   "metadata": {},
   "outputs": [],
   "source": [
    "mat = A@x\n",
    "mat = np.reshape(mat, (5000, 1))"
   ]
  },
  {
   "cell_type": "code",
   "execution_count": 61,
   "id": "27411cfb",
   "metadata": {},
   "outputs": [
    {
     "data": {
      "text/plain": [
       "1.3592785514389985e-10"
      ]
     },
     "execution_count": 61,
     "metadata": {},
     "output_type": "execute_result"
    }
   ],
   "source": [
    "la.norm(mat-b, 2)"
   ]
  },
  {
   "cell_type": "code",
   "execution_count": null,
   "id": "d99aa97a",
   "metadata": {},
   "outputs": [],
   "source": []
  },
  {
   "cell_type": "code",
   "execution_count": null,
   "id": "dac74b20",
   "metadata": {},
   "outputs": [],
   "source": []
  },
  {
   "cell_type": "code",
   "execution_count": null,
   "id": "b948f3da",
   "metadata": {},
   "outputs": [],
   "source": [
    "# Q4"
   ]
  },
  {
   "cell_type": "code",
   "execution_count": 70,
   "id": "399812c6",
   "metadata": {},
   "outputs": [],
   "source": [
    "A = sp.csc_matrix(np.eye(500))"
   ]
  },
  {
   "cell_type": "code",
   "execution_count": 71,
   "id": "4c4f520c",
   "metadata": {},
   "outputs": [
    {
     "data": {
      "text/plain": [
       "<matplotlib.lines.Line2D at 0x1de568533a0>"
      ]
     },
     "execution_count": 71,
     "metadata": {},
     "output_type": "execute_result"
    },
    {
     "data": {
      "image/png": "[encoded data removed]",
      "text/plain": [
       "<Figure size 640x480 with 1 Axes>"
      ]
     },
     "metadata": {},
     "output_type": "display_data"
    }
   ],
   "source": [
    "plt.spy(A)"
   ]
  },
  {
   "cell_type": "code",
   "execution_count": null,
   "id": "acfd5a9b",
   "metadata": {},
   "outputs": [],
   "source": []
  },
  {
   "cell_type": "code",
   "execution_count": 68,
   "id": "400413b2",
   "metadata": {},
   "outputs": [],
   "source": [
    "A = sp.diags([np.tile(1, reps= (500,)), np.tile(2, reps=(499,))], [0, 1])"
   ]
  },
  {
   "cell_type": "code",
   "execution_count": 69,
   "id": "09cab796",
   "metadata": {},
   "outputs": [
    {
     "data": {
      "text/plain": [
       "<matplotlib.lines.Line2D at 0x1de568278b0>"
      ]
     },
     "execution_count": 69,
     "metadata": {},
     "output_type": "execute_result"
    },
    {
     "data": {
      "image/png": "[encoded data removed]",
      "text/plain": [
       "<Figure size 640x480 with 1 Axes>"
      ]
     },
     "metadata": {},
     "output_type": "display_data"
    }
   ],
   "source": [
    "plt.spy(A)"
   ]
  },
  {
   "cell_type": "code",
   "execution_count": null,
   "id": "bb34fdb0",
   "metadata": {},
   "outputs": [],
   "source": []
  },
  {
   "cell_type": "code",
   "execution_count": 72,
   "id": "576e6396",
   "metadata": {},
   "outputs": [],
   "source": [
    "A = sp.diags([np.tile(0.5, reps=(499,)), np.tile(1, reps= (500,)), np.tile(0.5, reps=(499,))], [-1, 0, 1])"
   ]
  },
  {
   "cell_type": "code",
   "execution_count": 73,
   "id": "f6f60d0b",
   "metadata": {},
   "outputs": [
    {
     "data": {
      "text/plain": [
       "<matplotlib.lines.Line2D at 0x1de56889e10>"
      ]
     },
     "execution_count": 73,
     "metadata": {},
     "output_type": "execute_result"
    },
    {
     "data": {
      "image/png": "[encoded data removed]",
      "text/plain": [
       "<Figure size 640x480 with 1 Axes>"
      ]
     },
     "metadata": {},
     "output_type": "display_data"
    }
   ],
   "source": [
    "plt.spy(A)"
   ]
  },
  {
   "cell_type": "code",
   "execution_count": null,
   "id": "97d622fc",
   "metadata": {},
   "outputs": [],
   "source": []
  },
  {
   "cell_type": "code",
   "execution_count": null,
   "id": "575213d6",
   "metadata": {},
   "outputs": [],
   "source": []
  },
  {
   "cell_type": "code",
   "execution_count": null,
   "id": "22afefc0",
   "metadata": {},
   "outputs": [],
   "source": [
    "# Q6"
   ]
  },
  {
   "cell_type": "code",
   "execution_count": 90,
   "id": "30b941d5",
   "metadata": {},
   "outputs": [],
   "source": [
    "def peig(A, tol):\n",
    "    \n",
    "    v = sp.random(A.shape[1], 1)\n",
    "    mu = []\n",
    "    \n",
    "    for i in range(2):\n",
    "        u = A@v\n",
    "        mu.append(sla.norm(u))\n",
    "\n",
    "        v = u/mu[-1]\n",
    "        \n",
    "    while abs(mu[-1] - mu[-2])> tol:\n",
    "        \n",
    "        u = A@v\n",
    "        mu.append(sla.norm(u))\n",
    "\n",
    "        v = u/mu[-1]\n",
    "        \n",
    "    return (mu[-1], v)"
   ]
  },
  {
   "cell_type": "code",
   "execution_count": 91,
   "id": "d2f33a6c",
   "metadata": {},
   "outputs": [],
   "source": [
    "A = sp.random(1000, 1000, density = 0.1)"
   ]
  },
  {
   "cell_type": "code",
   "execution_count": 92,
   "id": "db24b219",
   "metadata": {},
   "outputs": [
    {
     "data": {
      "text/plain": [
       "(1000, 1000)"
      ]
     },
     "execution_count": 92,
     "metadata": {},
     "output_type": "execute_result"
    }
   ],
   "source": [
    "A.shape"
   ]
  },
  {
   "cell_type": "code",
   "execution_count": 93,
   "id": "412f8909",
   "metadata": {},
   "outputs": [
    {
     "data": {
      "text/plain": [
       "(50.04232547494159,\n",
       " <1000x1 sparse matrix of type '<class 'numpy.float64'>'\n",
       " \twith 1000 stored elements in Compressed Sparse Row format>)"
      ]
     },
     "execution_count": 93,
     "metadata": {},
     "output_type": "execute_result"
    }
   ],
   "source": [
    "peig(A, 0.01)"
   ]
  },
  {
   "cell_type": "code",
   "execution_count": null,
   "id": "33d8a388",
   "metadata": {},
   "outputs": [],
   "source": []
  },
  {
   "cell_type": "code",
   "execution_count": null,
   "id": "8135c5b4",
   "metadata": {},
   "outputs": [],
   "source": []
  },
  {
   "cell_type": "code",
   "execution_count": null,
   "id": "9c590b3b",
   "metadata": {},
   "outputs": [],
   "source": [
    "# Q7"
   ]
  },
  {
   "cell_type": "code",
   "execution_count": null,
   "id": "2e5b504e",
   "metadata": {},
   "outputs": [],
   "source": []
  }
 ],
 "metadata": {
  "kernelspec": {
   "display_name": "capstone",
   "language": "python",
   "name": "python3"
  },
  "language_info": {
   "codemirror_mode": {
    "name": "ipython",
    "version": 3
   },
   "file_extension": ".py",
   "mimetype": "text/x-python",
   "name": "python",
   "nbconvert_exporter": "python",
   "pygments_lexer": "ipython3",
   "version": "3.10.4"
  }
 },
 "nbformat": 4,
 "nbformat_minor": 5
}
